{
 "cells": [
  {
   "cell_type": "markdown",
   "metadata": {},
   "source": [
    "# Statistik und Wahrscheinlichkeitsrechnung: Hello World\n",
    "Glückwunsch - Sie haben Ihr erstes Notebook geöffnet! \n",
    "\n",
    "Python-Notebooks bestehen aus sogenannten Zellen (engl. \"cells\"). Es gibt zwei Typen von Zellen: \n",
    "* Markdown-Zellen (diese enthalten einfach nur Freitext im Markdown-Format).\n",
    "* Code-Zellen (diese enthalten Python-Code, den man direkt im Notebook ausführen kann).\n",
    "\n",
    "Dieses Notebook besteht - neben dieser Zelle - aus zwei weiteren Zellen (siehe unten). In beiden finden Sie ein kurzes FIXME. Lösen Sie die FIXMEs, um die Funktionsweise von Python-Notebooks zu lernen.\n"
   ]
  },
  {
   "cell_type": "markdown",
   "metadata": {},
   "source": [
    "# Zelle 1 (Markdown)\n",
    "\n",
    "FIXME: Korrigieren Sie diesen Tippfäähler !\n",
    "* Doppelklicken Sie auf die Zelle\n",
    "* Ändern Sie den Text\n",
    "* Bestätigen Sie mit STRG+ENTER."
   ]
  },
  {
   "cell_type": "code",
   "execution_count": null,
   "metadata": {},
   "outputs": [],
   "source": [
    "# ZELLE 2 (Python-Code)\n",
    "\n",
    "# FIXME: Führen Sie den Python-Code aus\n",
    "# 1. Klicken Sie auf die Zelle\n",
    "# 2. Ändern Sie den Code unten (geben Sie z.B. 20x statt 10x HelloWorld aus,\n",
    "#    und ersetzen Sie in weird_point_cloud() 8 durch 15).\n",
    "# 3. Führen Sie mit STRG+ENTER den Code aus.\n",
    "# 4. Sie sollten unter der Zelle die Ausgabe sehen (etwas Text und einen Plot).\n",
    "\n",
    "# diese Zeile bewirkt, dass der Plot direkt im Notebook erscheint.\n",
    "%matplotlib inline \n",
    "\n",
    "# Import von Python-Paketen\n",
    "import numpy as np\n",
    "import matplotlib.pyplot as plt\n",
    "\n",
    "# \"Hello World\" 10x ausgeben\n",
    "for i in range(20):\n",
    "    print(\"Hello World %d!\" %i)\n",
    "\n",
    "# eine Funktion, die eine 2D-Punktwolke generiert\n",
    "# (eine Liste von x-Koordinaten und eine von y-Koordinaten)\n",
    "def weird_point_cloud():\n",
    "    # Zahlen von 0 bis 8 im Abstand von 0.01\n",
    "    x = np.arange(0, 8, 0.01)\n",
    "    # y-Werte = sin(x) + Zufallszahlen\n",
    "    y = np.sin(x) + np.random.random(len(x))\n",
    "    return x, y\n",
    "\n",
    "# Plotte die Punktwolke\n",
    "x,y = weird_point_cloud()\n",
    "plt.scatter(x,y, color=\"red\", s=2)\n",
    "plt.show()\n"
   ]
  }
 ],
 "metadata": {
  "kernelspec": {
   "display_name": "Python 2",
   "language": "python",
   "name": "python2"
  },
  "language_info": {
   "codemirror_mode": {
    "name": "ipython",
    "version": 3
   },
   "file_extension": ".py",
   "mimetype": "text/x-python",
   "name": "python",
   "nbconvert_exporter": "python",
   "pygments_lexer": "ipython3",
   "version": "3.7.5"
  }
 },
 "nbformat": 4,
 "nbformat_minor": 1
}
